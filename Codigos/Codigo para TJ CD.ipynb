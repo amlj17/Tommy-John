{
 "cells": [
  {
   "cell_type": "code",
   "execution_count": 52,
   "id": "multiple-interface",
   "metadata": {},
   "outputs": [
    {
     "name": "stdout",
     "output_type": "stream",
     "text": [
      "<class 'pandas.core.frame.DataFrame'>\n",
      "Int64Index: 1813 entries, 0 to 1934\n",
      "Data columns (total 17 columns):\n",
      " #   Column             Non-Null Count  Dtype  \n",
      "---  ------             --------------  -----  \n",
      " 0   Player             1813 non-null   object \n",
      " 1   Team               1813 non-null   object \n",
      " 2   Level              1813 non-null   object \n",
      " 3   Position           1813 non-null   object \n",
      " 4   Throws             1813 non-null   object \n",
      " 5   Age                1813 non-null   int64  \n",
      " 6   Year               1813 non-null   int64  \n",
      " 7   AB Before Surgery  1813 non-null   int64  \n",
      " 8   IP Before Surgery  1813 non-null   float64\n",
      " 9   G Before Surgery   1813 non-null   int64  \n",
      " 10  Injured Elbow      1813 non-null   object \n",
      " 11  Country            1813 non-null   object \n",
      " 12  High School        1426 non-null   object \n",
      " 13  College(s)         1088 non-null   object \n",
      " 14  Surgeon(s)         619 non-null    object \n",
      " 15  Velo               736 non-null    float64\n",
      " 16  Offspeed Usage     736 non-null    float64\n",
      "dtypes: float64(3), int64(4), object(10)\n",
      "memory usage: 255.0+ KB\n"
     ]
    }
   ],
   "source": [
    "import numpy as np\n",
    "import pandas as pd\n",
    "from scipy import stats\n",
    "import statistics\n",
    "#1 \n",
    "#creamos dfs\n",
    "#para injuries, estadisticas y velocidad\n",
    "injuries = pd.read_csv('TJ.csv', sep=',')\n",
    "estad =  pd.read_csv('BRef.csv', sep=',')\n",
    "velo =  pd.read_csv('Savant_Velo.csv', sep=',')\n",
    "#eliminamos columnas no deseadas de injuries\n",
    "#solo queremos quedarnos con player, country, highschool, college, surgeon\n",
    "inj1=injuries.drop(['Team', 'Level', 'Throws', 'G', 'IP', 'GS'], axis=1)\n",
    "inj2=inj1.drop(['TJ Surgery Date', 'Position', 'Age', 'Return Date (same level)', 'Recovery Time (months)', 'mlbamid', 'Year'], axis=1)\n",
    "inj2.head()\n",
    "inj3=inj2.drop(['fgid', 'Post-TJ MLB G', 'Active', 'Setback Type.1', 'K-BB%', 'ERA-', 'FIP-', 'G.1', 'GS.1', 'IP.1'], axis=1)\n",
    "inj3.head()\n",
    "inj4=inj3.drop(['Month', 'Day', 'Post-TJ MLB IP/PA', 'Started\\nThrowing', 'Mound', 'Bullpen', 'Game', 'Live\\nHitters', 'Setback'], axis=1)\n",
    "inj4.head()\n",
    "injFin=inj4.drop(['Setback Type', 'Setback.1', 'K-BB%.1', 'ERA-.1', 'FIP-.1'], axis=1)\n",
    "injFin.head()\n",
    "#juntamos los dfs de stats y injuries\n",
    "juntos1= pd.merge(estad,injFin, on = 'Player')\n",
    "juntos1.head()\n",
    "#eliminamos year de velo\n",
    "velo2=velo.drop(['Year'], axis=1)\n",
    "#ahora juntos1 con velo\n",
    "juntos2=pd.merge(juntos1, velo2, on= 'Player', how='left')\n",
    "#quitamos duplicados para solo tener a 1er lesion\n",
    "fin=juntos2.drop_duplicates(subset='Player', keep='last')\n",
    "fin.info()\n",
    "#exportamos y se seguira trabajando ahora en sql\n",
    "#df.to_csv (r'C:\\Users\\Ron\\Desktop\\export_dataframe.csv', index = False, header=True)"
   ]
  },
  {
   "cell_type": "code",
   "execution_count": null,
   "id": "funky-softball",
   "metadata": {},
   "outputs": [],
   "source": []
  }
 ],
 "metadata": {
  "kernelspec": {
   "display_name": "Python 3",
   "language": "python",
   "name": "python3"
  },
  "language_info": {
   "codemirror_mode": {
    "name": "ipython",
    "version": 3
   },
   "file_extension": ".py",
   "mimetype": "text/x-python",
   "name": "python",
   "nbconvert_exporter": "python",
   "pygments_lexer": "ipython3",
   "version": "3.9.1"
  }
 },
 "nbformat": 4,
 "nbformat_minor": 5
}
